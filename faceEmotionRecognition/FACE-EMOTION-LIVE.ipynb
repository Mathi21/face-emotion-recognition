{
 "cells": [
  {
   "cell_type": "markdown",
   "id": "c7d47701",
   "metadata": {},
   "source": [
    "## FACE EMOTION LIVE DETECTION"
   ]
  },
  {
   "cell_type": "code",
   "execution_count": 3,
   "id": "87d25a2e",
   "metadata": {},
   "outputs": [],
   "source": [
    "# ignoring warings \n",
    "\n",
    "\n",
    "import warnings \n",
    "warnings.filterwarnings(\"ignore\")"
   ]
  },
  {
   "cell_type": "markdown",
   "id": "2f711d47",
   "metadata": {},
   "source": [
    "## Loading trained model"
   ]
  },
  {
   "cell_type": "code",
   "execution_count": 5,
   "id": "2e5149b3",
   "metadata": {},
   "outputs": [],
   "source": [
    "from tensorflow.keras.models import load_model \n",
    "\n",
    "emotion_model = load_model('faceEmotionRecog.h5') "
   ]
  },
  {
   "cell_type": "markdown",
   "id": "d60e9fb2",
   "metadata": {},
   "source": [
    "## Live face emotion recognition"
   ]
  },
  {
   "cell_type": "code",
   "execution_count": 6,
   "id": "ef969421",
   "metadata": {},
   "outputs": [],
   "source": [
    "import cv2\n",
    "import numpy as np\n",
    "\n",
    "\n",
    "def face_emotion_detect():\n",
    "    class_labels = ['angry', 'happy', 'neutral', 'sad', 'surprise'] \n",
    "\n",
    "    cap = cv2.VideoCapture(0)\n",
    "    while cap.isOpened():\n",
    "        ret, frame = cap.read()\n",
    "        if ret:\n",
    "            faceCascade = cv2.CascadeClassifier(cv2.data.haarcascades + 'haarcascade_frontalface_default.xml') \n",
    "            gray_img = cv2.cvtColor(frame, cv2.COLOR_BGR2GRAY) \n",
    "            faces = faceCascade.detectMultiScale(gray_img, 1.1, 4)\n",
    "            \n",
    "            if len(faces) != 0:\n",
    "                for x, y, w, h in faces:\n",
    "                    rec_gray = gray_img[y:y+h, x:x+w] \n",
    "                    cv2.rectangle(frame, (x,y), (x+w, y+h), (255, 0, 0), 2)\n",
    "\n",
    "                    final_img = cv2.resize(rec_gray, (48, 48))            \n",
    "                    final_img = np.expand_dims(final_img, axis=0) \n",
    "                    final_img = np.expand_dims(final_img, axis=-1)  \n",
    "                    final_img = final_img/255.0 \n",
    "\n",
    "                    prediction = emotion_model.predict(final_img) \n",
    "                    result_label = class_labels[np.argmax(prediction)] \n",
    "\n",
    "                    font = cv2.FONT_HERSHEY_SIMPLEX\n",
    "                    org = (x, y-10)  \n",
    "                    fontScale = 1\n",
    "                    color = (0, 255, 0)  \n",
    "                    thickness = 2\n",
    "                    cv2.putText(frame, result_label, org, font, fontScale, color, thickness, cv2.LINE_AA)\n",
    "\n",
    "                    cv2.imshow('emotion detector', frame)\n",
    "                    \n",
    "            else:\n",
    "                continue         \n",
    "\n",
    "            if cv2.waitKey(10) & 0xFF == ord('q'):                   # press q to stop live feed \n",
    "                break\n",
    "                    \n",
    "        else:\n",
    "            break\n",
    "\n",
    "    cap.release() \n",
    "    cv2.destroyAllWindows() "
   ]
  },
  {
   "cell_type": "code",
   "execution_count": 7,
   "id": "14fee16f",
   "metadata": {},
   "outputs": [],
   "source": [
    "face_emotion_detect()"
   ]
  },
  {
   "cell_type": "code",
   "execution_count": null,
   "id": "49a1ebcb",
   "metadata": {},
   "outputs": [],
   "source": []
  }
 ],
 "metadata": {
  "kernelspec": {
   "display_name": "gpuradeon",
   "language": "python",
   "name": "gpuradeon"
  },
  "language_info": {
   "codemirror_mode": {
    "name": "ipython",
    "version": 3
   },
   "file_extension": ".py",
   "mimetype": "text/x-python",
   "name": "python",
   "nbconvert_exporter": "python",
   "pygments_lexer": "ipython3",
   "version": "3.6.13"
  }
 },
 "nbformat": 4,
 "nbformat_minor": 5
}
